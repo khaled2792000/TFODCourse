{
 "cells": [
  {
   "cell_type": "markdown",
   "metadata": {},
   "source": [
    "# 1. Import Dependencies"
   ]
  },
  {
   "cell_type": "code",
   "execution_count": 1,
   "metadata": {},
   "outputs": [
    {
     "name": "stdout",
     "output_type": "stream",
     "text": [
      "Collecting opencv-python\n",
      "  Using cached opencv_python-4.9.0.80-cp37-abi3-win_amd64.whl.metadata (20 kB)\n",
      "Collecting numpy>=1.21.2 (from opencv-python)\n",
      "  Using cached numpy-1.26.4-cp310-cp310-win_amd64.whl.metadata (61 kB)\n",
      "Using cached opencv_python-4.9.0.80-cp37-abi3-win_amd64.whl (38.6 MB)\n",
      "Using cached numpy-1.26.4-cp310-cp310-win_amd64.whl (15.8 MB)\n",
      "Installing collected packages: numpy, opencv-python\n",
      "Successfully installed numpy-1.26.4 opencv-python-4.9.0.80\n"
     ]
    }
   ],
   "source": [
    "!pip install opencv-python"
   ]
  },
  {
   "cell_type": "code",
   "execution_count": 2,
   "metadata": {},
   "outputs": [],
   "source": [
    "# Import opencv\n",
    "import cv2 \n",
    "\n",
    "# Import uuid\n",
    "import uuid\n",
    "\n",
    "# Import Operating System\n",
    "import os\n",
    "\n",
    "# Import time\n",
    "import time"
   ]
  },
  {
   "cell_type": "markdown",
   "metadata": {},
   "source": [
    "# 2. Define Images to Collect"
   ]
  },
  {
   "cell_type": "code",
   "execution_count": 3,
   "metadata": {},
   "outputs": [],
   "source": [
    "labels = ['thumbsup', 'thumbsdown', 'thankyou', 'livelong']\n",
    "number_imgs = 5"
   ]
  },
  {
   "cell_type": "markdown",
   "metadata": {},
   "source": [
    "# 3. Setup Folders "
   ]
  },
  {
   "cell_type": "code",
   "execution_count": 4,
   "metadata": {},
   "outputs": [],
   "source": [
    "IMAGES_PATH = os.path.join('Tensorflow', 'workspace', 'images', 'collectedimages')"
   ]
  },
  {
   "cell_type": "code",
   "execution_count": 5,
   "metadata": {},
   "outputs": [],
   "source": [
    "if not os.path.exists(IMAGES_PATH):\n",
    "    if os.name == 'posix':\n",
    "        !mkdir -p {IMAGES_PATH}\n",
    "    if os.name == 'nt':\n",
    "         !mkdir {IMAGES_PATH}\n",
    "for label in labels:\n",
    "    path = os.path.join(IMAGES_PATH, label)\n",
    "    if not os.path.exists(path):\n",
    "        !mkdir {path}"
   ]
  },
  {
   "cell_type": "markdown",
   "metadata": {},
   "source": [
    "# 4. Capture Images"
   ]
  },
  {
   "cell_type": "code",
   "execution_count": 6,
   "metadata": {},
   "outputs": [
    {
     "name": "stdout",
     "output_type": "stream",
     "text": [
      "Collecting images for thumbsup\n",
      "Collecting image 0\n",
      "Collecting image 1\n",
      "Collecting image 2\n",
      "Collecting image 3\n",
      "Collecting image 4\n",
      "Collecting images for thumbsdown\n",
      "Collecting image 0\n",
      "Collecting image 1\n",
      "Collecting image 2\n",
      "Collecting image 3\n",
      "Collecting image 4\n",
      "Collecting images for thankyou\n",
      "Collecting image 0\n",
      "Collecting image 1\n",
      "Collecting image 2\n",
      "Collecting image 3\n",
      "Collecting image 4\n",
      "Collecting images for livelong\n",
      "Collecting image 0\n",
      "Collecting image 1\n",
      "Collecting image 2\n",
      "Collecting image 3\n",
      "Collecting image 4\n"
     ]
    }
   ],
   "source": [
    "for label in labels:\n",
    "    cap = cv2.VideoCapture(0)\n",
    "    print('Collecting images for {}'.format(label))\n",
    "    time.sleep(5)\n",
    "    for imgnum in range(number_imgs):\n",
    "        print('Collecting image {}'.format(imgnum))\n",
    "        ret, frame = cap.read()\n",
    "        imgname = os.path.join(IMAGES_PATH,label,label+'.'+'{}.jpg'.format(str(uuid.uuid1())))\n",
    "        cv2.imwrite(imgname, frame)\n",
    "        cv2.imshow('frame', frame)\n",
    "        time.sleep(2)\n",
    "\n",
    "        if cv2.waitKey(1) & 0xFF == ord('q'):\n",
    "            break\n",
    "cap.release()\n",
    "cv2.destroyAllWindows()"
   ]
  },
  {
   "cell_type": "markdown",
   "metadata": {},
   "source": [
    "# 5. Image Labelling"
   ]
  },
  {
   "cell_type": "code",
   "execution_count": 7,
   "metadata": {},
   "outputs": [
    {
     "name": "stdout",
     "output_type": "stream",
     "text": [
      "Collecting pyqt5\n",
      "  Using cached PyQt5-5.15.10-cp37-abi3-win_amd64.whl.metadata (2.2 kB)\n",
      "Collecting lxml\n",
      "  Using cached lxml-5.1.0-cp310-cp310-win_amd64.whl.metadata (3.6 kB)\n",
      "Collecting PyQt5-sip<13,>=12.13 (from pyqt5)\n",
      "  Using cached PyQt5_sip-12.13.0-cp310-cp310-win_amd64.whl.metadata (524 bytes)\n",
      "Collecting PyQt5-Qt5>=5.15.2 (from pyqt5)\n",
      "  Using cached PyQt5_Qt5-5.15.2-py3-none-win_amd64.whl (50.1 MB)\n",
      "Using cached PyQt5-5.15.10-cp37-abi3-win_amd64.whl (6.8 MB)\n",
      "Using cached lxml-5.1.0-cp310-cp310-win_amd64.whl (3.9 MB)\n",
      "Using cached PyQt5_sip-12.13.0-cp310-cp310-win_amd64.whl (78 kB)\n",
      "Installing collected packages: PyQt5-Qt5, PyQt5-sip, lxml, pyqt5\n",
      "Successfully installed PyQt5-Qt5-5.15.2 PyQt5-sip-12.13.0 lxml-5.1.0 pyqt5-5.15.10\n"
     ]
    }
   ],
   "source": [
    "!pip install --upgrade pyqt5 lxml"
   ]
  },
  {
   "cell_type": "code",
   "execution_count": 8,
   "metadata": {},
   "outputs": [],
   "source": [
    "LABELIMG_PATH = os.path.join('Tensorflow', 'labelimg')"
   ]
  },
  {
   "cell_type": "code",
   "execution_count": 9,
   "metadata": {},
   "outputs": [
    {
     "name": "stderr",
     "output_type": "stream",
     "text": [
      "Cloning into 'Tensorflow\\labelimg'...\n"
     ]
    }
   ],
   "source": [
    "if not os.path.exists(LABELIMG_PATH):\n",
    "    !mkdir {LABELIMG_PATH}\n",
    "    !git clone https://github.com/tzutalin/labelImg {LABELIMG_PATH}"
   ]
  },
  {
   "cell_type": "code",
   "execution_count": 10,
   "metadata": {},
   "outputs": [],
   "source": [
    "if os.name == 'posix':\n",
    "    !make qt5py3\n",
    "if os.name =='nt':\n",
    "    !cd {LABELIMG_PATH} && pyrcc5 -o libs/resources.py resources.qrc"
   ]
  },
  {
   "cell_type": "code",
   "execution_count": 11,
   "metadata": {},
   "outputs": [
    {
     "name": "stdout",
     "output_type": "stream",
     "text": [
      "Image:C:\\Users\\Khale\\Desktop\\FINAL PROJECT\\Tensorflow Object Detection\\Tensorflow\\workspace\\images\\collectedimages\\livelong\\livelong.d8c0fb58-d103-11ee-95f2-c0e4349c5448.jpg -> Annotation:C:/Users/Khale/Desktop/FINAL PROJECT/Tensorflow Object Detection/Tensorflow/workspace/images/collectedimages/livelong\\livelong.d8c0fb58-d103-11ee-95f2-c0e4349c5448.xml\n",
      "Image:C:\\Users\\Khale\\Desktop\\FINAL PROJECT\\Tensorflow Object Detection\\Tensorflow\\workspace\\images\\collectedimages\\livelong\\livelong.d8c0fb58-d103-11ee-95f2-c0e4349c5448.jpg -> Annotation:C:/Users/Khale/Desktop/FINAL PROJECT/Tensorflow Object Detection/Tensorflow/workspace/images/collectedimages/livelong\\livelong.d8c0fb58-d103-11ee-95f2-c0e4349c5448.xml\n",
      "Image:C:\\Users\\Khale\\Desktop\\FINAL PROJECT\\Tensorflow Object Detection\\Tensorflow\\workspace\\images\\collectedimages\\livelong\\livelong.da007d29-d103-11ee-a03f-c0e4349c5448.jpg -> Annotation:C:/Users/Khale/Desktop/FINAL PROJECT/Tensorflow Object Detection/Tensorflow/workspace/images/collectedimages/livelong\\livelong.da007d29-d103-11ee-a03f-c0e4349c5448.xml\n",
      "Image:C:\\Users\\Khale\\Desktop\\FINAL PROJECT\\Tensorflow Object Detection\\Tensorflow\\workspace\\images\\collectedimages\\livelong\\livelong.d7805176-d103-11ee-bdf3-c0e4349c5448.jpg -> Annotation:C:/Users/Khale/Desktop/FINAL PROJECT/Tensorflow Object Detection/Tensorflow/workspace/images/collectedimages/livelong\\livelong.d7805176-d103-11ee-bdf3-c0e4349c5448.xml\n",
      "Image:C:\\Users\\Khale\\Desktop\\FINAL PROJECT\\Tensorflow Object Detection\\Tensorflow\\workspace\\images\\collectedimages\\livelong\\livelong.d500c6ec-d103-11ee-95cd-c0e4349c5448.jpg -> Annotation:C:/Users/Khale/Desktop/FINAL PROJECT/Tensorflow Object Detection/Tensorflow/workspace/images/collectedimages/livelong\\livelong.d500c6ec-d103-11ee-95cd-c0e4349c5448.xml\n",
      "Image:C:\\Users\\Khale\\Desktop\\FINAL PROJECT\\Tensorflow Object Detection\\Tensorflow\\workspace\\images\\collectedimages\\livelong\\livelong.d63d8517-d103-11ee-85d1-c0e4349c5448.jpg -> Annotation:C:/Users/Khale/Desktop/FINAL PROJECT/Tensorflow Object Detection/Tensorflow/workspace/images/collectedimages/livelong\\livelong.d63d8517-d103-11ee-85d1-c0e4349c5448.xml\n",
      "Image:C:\\Users\\Khale\\Desktop\\FINAL PROJECT\\Tensorflow Object Detection\\Tensorflow\\workspace\\images\\collectedimages\\thankyou\\thankyou.c9e5fc0e-d103-11ee-a021-c0e4349c5448.jpg -> Annotation:C:/Users/Khale/Desktop/FINAL PROJECT/Tensorflow Object Detection/Tensorflow/workspace/images/collectedimages/thankyou\\thankyou.c9e5fc0e-d103-11ee-a021-c0e4349c5448.xml\n",
      "Image:C:\\Users\\Khale\\Desktop\\FINAL PROJECT\\Tensorflow Object Detection\\Tensorflow\\workspace\\images\\collectedimages\\thankyou\\thankyou.cc665e49-d103-11ee-9bf6-c0e4349c5448.jpg -> Annotation:C:/Users/Khale/Desktop/FINAL PROJECT/Tensorflow Object Detection/Tensorflow/workspace/images/collectedimages/thankyou\\thankyou.cc665e49-d103-11ee-9bf6-c0e4349c5448.xml\n",
      "Image:C:\\Users\\Khale\\Desktop\\FINAL PROJECT\\Tensorflow Object Detection\\Tensorflow\\workspace\\images\\collectedimages\\thankyou\\thankyou.cda935ca-d103-11ee-b824-c0e4349c5448.jpg -> Annotation:C:/Users/Khale/Desktop/FINAL PROJECT/Tensorflow Object Detection/Tensorflow/workspace/images/collectedimages/thankyou\\thankyou.cda935ca-d103-11ee-b824-c0e4349c5448.xml\n",
      "Image:C:\\Users\\Khale\\Desktop\\FINAL PROJECT\\Tensorflow Object Detection\\Tensorflow\\workspace\\images\\collectedimages\\thankyou\\thankyou.ceeea26d-d103-11ee-9a27-c0e4349c5448.jpg -> Annotation:C:/Users/Khale/Desktop/FINAL PROJECT/Tensorflow Object Detection/Tensorflow/workspace/images/collectedimages/thankyou\\thankyou.ceeea26d-d103-11ee-9a27-c0e4349c5448.xml\n",
      "Image:C:\\Users\\Khale\\Desktop\\FINAL PROJECT\\Tensorflow Object Detection\\Tensorflow\\workspace\\images\\collectedimages\\thankyou\\thankyou.cb260cc8-d103-11ee-90e8-c0e4349c5448.jpg -> Annotation:C:/Users/Khale/Desktop/FINAL PROJECT/Tensorflow Object Detection/Tensorflow/workspace/images/collectedimages/thankyou\\thankyou.cb260cc8-d103-11ee-90e8-c0e4349c5448.xml\n",
      "Image:C:\\Users\\Khale\\Desktop\\FINAL PROJECT\\Tensorflow Object Detection\\Tensorflow\\workspace\\images\\collectedimages\\thumbsdown\\thumbsdown.bec50271-d103-11ee-9c87-c0e4349c5448.jpg -> Annotation:C:/Users/Khale/Desktop/FINAL PROJECT/Tensorflow Object Detection/Tensorflow/workspace/images/collectedimages/thumbsdown\\thumbsdown.bec50271-d103-11ee-9c87-c0e4349c5448.xml\n",
      "Image:C:\\Users\\Khale\\Desktop\\FINAL PROJECT\\Tensorflow Object Detection\\Tensorflow\\workspace\\images\\collectedimages\\thumbsdown\\thumbsdown.c00142fd-d103-11ee-bf72-c0e4349c5448.jpg -> Annotation:C:/Users/Khale/Desktop/FINAL PROJECT/Tensorflow Object Detection/Tensorflow/workspace/images/collectedimages/thumbsdown\\thumbsdown.c00142fd-d103-11ee-bf72-c0e4349c5448.xml\n",
      "Image:C:\\Users\\Khale\\Desktop\\FINAL PROJECT\\Tensorflow Object Detection\\Tensorflow\\workspace\\images\\collectedimages\\thumbsdown\\thumbsdown.c2858ca6-d103-11ee-9f51-c0e4349c5448.jpg -> Annotation:C:/Users/Khale/Desktop/FINAL PROJECT/Tensorflow Object Detection/Tensorflow/workspace/images/collectedimages/thumbsdown\\thumbsdown.c2858ca6-d103-11ee-9f51-c0e4349c5448.xml\n",
      "Image:C:\\Users\\Khale\\Desktop\\FINAL PROJECT\\Tensorflow Object Detection\\Tensorflow\\workspace\\images\\collectedimages\\thumbsdown\\thumbsdown.c144a435-d103-11ee-8cfc-c0e4349c5448.jpg -> Annotation:C:/Users/Khale/Desktop/FINAL PROJECT/Tensorflow Object Detection/Tensorflow/workspace/images/collectedimages/thumbsdown\\thumbsdown.c144a435-d103-11ee-8cfc-c0e4349c5448.xml\n",
      "Image:C:\\Users\\Khale\\Desktop\\FINAL PROJECT\\Tensorflow Object Detection\\Tensorflow\\workspace\\images\\collectedimages\\thumbsdown\\thumbsdown.c3c705a7-d103-11ee-92eb-c0e4349c5448.jpg -> Annotation:C:/Users/Khale/Desktop/FINAL PROJECT/Tensorflow Object Detection/Tensorflow/workspace/images/collectedimages/thumbsdown\\thumbsdown.c3c705a7-d103-11ee-92eb-c0e4349c5448.xml\n",
      "Image:C:\\Users\\Khale\\Desktop\\FINAL PROJECT\\Tensorflow Object Detection\\Tensorflow\\workspace\\images\\collectedimages\\thumbsup\\thumbsup.b4d9f3c7-d103-11ee-9c8e-c0e4349c5448.jpg -> Annotation:C:/Users/Khale/Desktop/FINAL PROJECT/Tensorflow Object Detection/Tensorflow/workspace/images/collectedimages/thumbsup\\thumbsup.b4d9f3c7-d103-11ee-9c8e-c0e4349c5448.xml\n",
      "Image:C:\\Users\\Khale\\Desktop\\FINAL PROJECT\\Tensorflow Object Detection\\Tensorflow\\workspace\\images\\collectedimages\\thumbsup\\thumbsup.b61d73cb-d103-11ee-9c0e-c0e4349c5448.jpg -> Annotation:C:/Users/Khale/Desktop/FINAL PROJECT/Tensorflow Object Detection/Tensorflow/workspace/images/collectedimages/thumbsup\\thumbsup.b61d73cb-d103-11ee-9c0e-c0e4349c5448.xml\n",
      "Image:C:\\Users\\Khale\\Desktop\\FINAL PROJECT\\Tensorflow Object Detection\\Tensorflow\\workspace\\images\\collectedimages\\thumbsup\\thumbsup.b88af34d-d103-11ee-a5fe-c0e4349c5448.jpg -> Annotation:C:/Users/Khale/Desktop/FINAL PROJECT/Tensorflow Object Detection/Tensorflow/workspace/images/collectedimages/thumbsup\\thumbsup.b88af34d-d103-11ee-a5fe-c0e4349c5448.xml\n",
      "Image:C:\\Users\\Khale\\Desktop\\FINAL PROJECT\\Tensorflow Object Detection\\Tensorflow\\workspace\\images\\collectedimages\\thumbsup\\thumbsup.b7557a85-d103-11ee-a8bc-c0e4349c5448.jpg -> Annotation:C:/Users/Khale/Desktop/FINAL PROJECT/Tensorflow Object Detection/Tensorflow/workspace/images/collectedimages/thumbsup\\thumbsup.b7557a85-d103-11ee-a8bc-c0e4349c5448.xml\n"
     ]
    }
   ],
   "source": [
    "!cd {LABELIMG_PATH} && python labelImg.py"
   ]
  },
  {
   "cell_type": "markdown",
   "metadata": {},
   "source": [
    "# 6. Move them into a Training and Testing Partition"
   ]
  },
  {
   "cell_type": "markdown",
   "metadata": {},
   "source": [
    "# OPTIONAL - 7. Compress them for Colab Training"
   ]
  },
  {
   "cell_type": "code",
   "execution_count": 20,
   "metadata": {},
   "outputs": [],
   "source": [
    "TRAIN_PATH = os.path.join('Tensorflow', 'workspace', 'images', 'train')\n",
    "TEST_PATH = os.path.join('Tensorflow', 'workspace', 'images', 'test')\n",
    "ARCHIVE_PATH = os.path.join('Tensorflow', 'workspace', 'images', 'archive.tar.gz')"
   ]
  },
  {
   "cell_type": "code",
   "execution_count": 21,
   "metadata": {},
   "outputs": [],
   "source": [
    "!tar -czf {ARCHIVE_PATH} {TRAIN_PATH} {TEST_PATH}"
   ]
  },
  {
   "cell_type": "code",
   "execution_count": null,
   "metadata": {},
   "outputs": [],
   "source": []
  }
 ],
 "metadata": {
  "kernelspec": {
   "display_name": "tfodj",
   "language": "python",
   "name": "tfodj"
  },
  "language_info": {
   "codemirror_mode": {
    "name": "ipython",
    "version": 3
   },
   "file_extension": ".py",
   "mimetype": "text/x-python",
   "name": "python",
   "nbconvert_exporter": "python",
   "pygments_lexer": "ipython3",
   "version": "3.10.2"
  }
 },
 "nbformat": 4,
 "nbformat_minor": 2
}
